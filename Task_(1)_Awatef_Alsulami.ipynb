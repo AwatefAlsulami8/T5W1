{
  "nbformat": 4,
  "nbformat_minor": 0,
  "metadata": {
    "colab": {
      "provenance": []
    },
    "kernelspec": {
      "name": "python3",
      "display_name": "Python 3"
    },
    "language_info": {
      "name": "python"
    }
  },
  "cells": [
    {
      "cell_type": "markdown",
      "source": [
        "#Dataset Description"
      ],
      "metadata": {
        "id": "8vb3xNKsoP0r"
      }
    },
    {
      "cell_type": "markdown",
      "source": [
        "\\\n",
        "\n",
        "## The dataset contains information about road traffic accidents with the following columns:\n",
        "\n",
        "`Time`: Time of the accident\n",
        "\n",
        "`Day_of_week`: Day of the week when the accident occurred\n",
        "\n",
        "`Age_band_of_driver`: Age group of the driver\n",
        "\n",
        "`Sex_of_driver`: Gender of the driver\n",
        "\n",
        "`Educational_level`: Educational level of the driver\n",
        "\n",
        "`Vehicle_driver_relation`: Relationship of the driver to the vehicle\n",
        "\n",
        "`Driving_experience`: Driving experience of the driver\n",
        "\n",
        "`Type_of_vehicle`: Type of vehicle involved in the accident\n",
        "\n",
        "`Owner_of_vehicle`: Owner of the vehicle\n",
        "\n",
        "`Service_year_of_vehicle`: Service years of the vehicle\n",
        "\n",
        "`Area_accident_occured`: Area where the accident occurred\n",
        "\n",
        "`Lanes_or_Medians`: Lanes or medians at the accident site\n",
        "\n",
        "`Road_allignment`: Road alignment at the accident site\n",
        "\n",
        "`Types_of_Junction`: Type of junction at the accident site\n",
        "\n",
        "`Road_surface_type`: Type of road surface at the accident site\n",
        "\n",
        "`Road_surface_conditions`: Road surface conditions at the accident site\n",
        "\n",
        "`Light_conditions`: Light conditions at the time of the accident\n",
        "\n",
        "`Weather_conditions`: Weather conditions at the time of the accident\n",
        "\n",
        "`Type_of_collision`: Type of collision\n",
        "\n",
        "`Number_of_vehicles_involved`: Number of vehicles involved in the accident\n",
        "\n",
        "`Number_of_casualties`: Number of casualties in the accident\n",
        "\n",
        "`Vehicle_movement`: Movement of the vehicle during the accident\n",
        "\n",
        "`Casualty_class`: Class of casualty (driver, passenger, pedestrian)\n",
        "\n",
        "`Sex_of_casualty`: Gender of the casualty\n",
        "\n",
        "`Age_band_of_casualty`: Age group of the casualty\n",
        "\n",
        "`Casualty_severity`: Severity of the casualty\n",
        "\n",
        "`Work_of_casuality`: Occupation of the casualty\n",
        "\n",
        "`Fitness_of_casuality`: Fitness of the casualty\n",
        "\n",
        "`Pedestrian_movement`: Movement of the pedestrian\n",
        "\n",
        "`Cause_of_accident`: Cause of the accident\n",
        "\n",
        "`Accident_severity`: Severity of the accident\n"
      ],
      "metadata": {
        "id": "4TflBwn4kNdJ"
      }
    },
    {
      "cell_type": "markdown",
      "source": [
        "# Tasks"
      ],
      "metadata": {
        "id": "WBNuyQVhlpj5"
      }
    },
    {
      "cell_type": "markdown",
      "source": [
        "##1. Data Cleaning"
      ],
      "metadata": {
        "id": "dasaHMt9lvdZ"
      }
    },
    {
      "cell_type": "markdown",
      "source": [
        "### Read the dataset"
      ],
      "metadata": {
        "id": "RNId1lMc3iUT"
      }
    },
    {
      "cell_type": "code",
      "source": [
        "import pandas as pd\n",
        "import numpy as np\n",
        "import matplotlib.pyplot as plt\n",
        "import seaborn as sns\n",
        "df=pd.read_csv('/content/Task (1) Dataset.csv')"
      ],
      "metadata": {
        "id": "KoTLFh533l5X"
      },
      "execution_count": 1,
      "outputs": []
    },
    {
      "cell_type": "code",
      "source": [
        "df.head()"
      ],
      "metadata": {
        "colab": {
          "base_uri": "https://localhost:8080/",
          "height": 397
        },
        "id": "IrTNmTdJKX2I",
        "outputId": "7c33e058-5067-4683-92af-ce0c7ca7c938"
      },
      "execution_count": 18,
      "outputs": [
        {
          "output_type": "execute_result",
          "data": {
            "text/plain": [
              "       Time Day_of_week Age_band_of_driver Sex_of_driver   Educational_level  \\\n",
              "0  17:02:00      Monday              18-30          Male   Above high school   \n",
              "1  17:02:00      Monday              31-50          Male  Junior high school   \n",
              "2  17:02:00      Monday              18-30          Male  Junior high school   \n",
              "3   1:06:00      Sunday              18-30          Male  Junior high school   \n",
              "4   1:06:00      Sunday              18-30          Male  Junior high school   \n",
              "\n",
              "  Vehicle_driver_relation Driving_experience      Type_of_vehicle  \\\n",
              "0                Employee              1-2yr           Automobile   \n",
              "1                Employee         Above 10yr  Public (> 45 seats)   \n",
              "2                Employee              1-2yr      Lorry (41?100Q)   \n",
              "3                Employee             5-10yr  Public (> 45 seats)   \n",
              "4                Employee              2-5yr                other   \n",
              "\n",
              "  Owner_of_vehicle Service_year_of_vehicle  ... Vehicle_movement  \\\n",
              "0            Owner              Above 10yr  ...   Going straight   \n",
              "1            Owner                 5-10yrs  ...   Going straight   \n",
              "2            Owner                     NaN  ...   Going straight   \n",
              "3     Governmental                     NaN  ...   Going straight   \n",
              "4            Owner                 5-10yrs  ...   Going straight   \n",
              "\n",
              "    Casualty_class Sex_of_casualty Age_band_of_casualty Casualty_severity  \\\n",
              "0               na              na                   na                na   \n",
              "1               na              na                   na                na   \n",
              "2  Driver or rider            Male                31-50                 3   \n",
              "3       Pedestrian          Female                18-30                 3   \n",
              "4               na              na                   na                na   \n",
              "\n",
              "  Work_of_casuality Fitness_of_casuality Pedestrian_movement  \\\n",
              "0               NaN              Unknown    Not a Pedestrian   \n",
              "1               NaN              Unknown    Not a Pedestrian   \n",
              "2            Driver              Unknown    Not a Pedestrian   \n",
              "3            Driver               Normal    Not a Pedestrian   \n",
              "4               NaN              Unknown    Not a Pedestrian   \n",
              "\n",
              "            Cause_of_accident  Accident_severity  \n",
              "0             Moving Backward      Slight Injury  \n",
              "1                  Overtaking      Slight Injury  \n",
              "2   Changing lane to the left     Serious Injury  \n",
              "3  Changing lane to the right      Slight Injury  \n",
              "4                  Overtaking      Slight Injury  \n",
              "\n",
              "[5 rows x 31 columns]"
            ],
            "text/html": [
              "\n",
              "  <div id=\"df-2d0bcb59-af80-4755-afe0-415084f86844\" class=\"colab-df-container\">\n",
              "    <div>\n",
              "<style scoped>\n",
              "    .dataframe tbody tr th:only-of-type {\n",
              "        vertical-align: middle;\n",
              "    }\n",
              "\n",
              "    .dataframe tbody tr th {\n",
              "        vertical-align: top;\n",
              "    }\n",
              "\n",
              "    .dataframe thead th {\n",
              "        text-align: right;\n",
              "    }\n",
              "</style>\n",
              "<table border=\"1\" class=\"dataframe\">\n",
              "  <thead>\n",
              "    <tr style=\"text-align: right;\">\n",
              "      <th></th>\n",
              "      <th>Time</th>\n",
              "      <th>Day_of_week</th>\n",
              "      <th>Age_band_of_driver</th>\n",
              "      <th>Sex_of_driver</th>\n",
              "      <th>Educational_level</th>\n",
              "      <th>Vehicle_driver_relation</th>\n",
              "      <th>Driving_experience</th>\n",
              "      <th>Type_of_vehicle</th>\n",
              "      <th>Owner_of_vehicle</th>\n",
              "      <th>Service_year_of_vehicle</th>\n",
              "      <th>...</th>\n",
              "      <th>Vehicle_movement</th>\n",
              "      <th>Casualty_class</th>\n",
              "      <th>Sex_of_casualty</th>\n",
              "      <th>Age_band_of_casualty</th>\n",
              "      <th>Casualty_severity</th>\n",
              "      <th>Work_of_casuality</th>\n",
              "      <th>Fitness_of_casuality</th>\n",
              "      <th>Pedestrian_movement</th>\n",
              "      <th>Cause_of_accident</th>\n",
              "      <th>Accident_severity</th>\n",
              "    </tr>\n",
              "  </thead>\n",
              "  <tbody>\n",
              "    <tr>\n",
              "      <th>0</th>\n",
              "      <td>17:02:00</td>\n",
              "      <td>Monday</td>\n",
              "      <td>18-30</td>\n",
              "      <td>Male</td>\n",
              "      <td>Above high school</td>\n",
              "      <td>Employee</td>\n",
              "      <td>1-2yr</td>\n",
              "      <td>Automobile</td>\n",
              "      <td>Owner</td>\n",
              "      <td>Above 10yr</td>\n",
              "      <td>...</td>\n",
              "      <td>Going straight</td>\n",
              "      <td>na</td>\n",
              "      <td>na</td>\n",
              "      <td>na</td>\n",
              "      <td>na</td>\n",
              "      <td>NaN</td>\n",
              "      <td>Unknown</td>\n",
              "      <td>Not a Pedestrian</td>\n",
              "      <td>Moving Backward</td>\n",
              "      <td>Slight Injury</td>\n",
              "    </tr>\n",
              "    <tr>\n",
              "      <th>1</th>\n",
              "      <td>17:02:00</td>\n",
              "      <td>Monday</td>\n",
              "      <td>31-50</td>\n",
              "      <td>Male</td>\n",
              "      <td>Junior high school</td>\n",
              "      <td>Employee</td>\n",
              "      <td>Above 10yr</td>\n",
              "      <td>Public (&gt; 45 seats)</td>\n",
              "      <td>Owner</td>\n",
              "      <td>5-10yrs</td>\n",
              "      <td>...</td>\n",
              "      <td>Going straight</td>\n",
              "      <td>na</td>\n",
              "      <td>na</td>\n",
              "      <td>na</td>\n",
              "      <td>na</td>\n",
              "      <td>NaN</td>\n",
              "      <td>Unknown</td>\n",
              "      <td>Not a Pedestrian</td>\n",
              "      <td>Overtaking</td>\n",
              "      <td>Slight Injury</td>\n",
              "    </tr>\n",
              "    <tr>\n",
              "      <th>2</th>\n",
              "      <td>17:02:00</td>\n",
              "      <td>Monday</td>\n",
              "      <td>18-30</td>\n",
              "      <td>Male</td>\n",
              "      <td>Junior high school</td>\n",
              "      <td>Employee</td>\n",
              "      <td>1-2yr</td>\n",
              "      <td>Lorry (41?100Q)</td>\n",
              "      <td>Owner</td>\n",
              "      <td>NaN</td>\n",
              "      <td>...</td>\n",
              "      <td>Going straight</td>\n",
              "      <td>Driver or rider</td>\n",
              "      <td>Male</td>\n",
              "      <td>31-50</td>\n",
              "      <td>3</td>\n",
              "      <td>Driver</td>\n",
              "      <td>Unknown</td>\n",
              "      <td>Not a Pedestrian</td>\n",
              "      <td>Changing lane to the left</td>\n",
              "      <td>Serious Injury</td>\n",
              "    </tr>\n",
              "    <tr>\n",
              "      <th>3</th>\n",
              "      <td>1:06:00</td>\n",
              "      <td>Sunday</td>\n",
              "      <td>18-30</td>\n",
              "      <td>Male</td>\n",
              "      <td>Junior high school</td>\n",
              "      <td>Employee</td>\n",
              "      <td>5-10yr</td>\n",
              "      <td>Public (&gt; 45 seats)</td>\n",
              "      <td>Governmental</td>\n",
              "      <td>NaN</td>\n",
              "      <td>...</td>\n",
              "      <td>Going straight</td>\n",
              "      <td>Pedestrian</td>\n",
              "      <td>Female</td>\n",
              "      <td>18-30</td>\n",
              "      <td>3</td>\n",
              "      <td>Driver</td>\n",
              "      <td>Normal</td>\n",
              "      <td>Not a Pedestrian</td>\n",
              "      <td>Changing lane to the right</td>\n",
              "      <td>Slight Injury</td>\n",
              "    </tr>\n",
              "    <tr>\n",
              "      <th>4</th>\n",
              "      <td>1:06:00</td>\n",
              "      <td>Sunday</td>\n",
              "      <td>18-30</td>\n",
              "      <td>Male</td>\n",
              "      <td>Junior high school</td>\n",
              "      <td>Employee</td>\n",
              "      <td>2-5yr</td>\n",
              "      <td>other</td>\n",
              "      <td>Owner</td>\n",
              "      <td>5-10yrs</td>\n",
              "      <td>...</td>\n",
              "      <td>Going straight</td>\n",
              "      <td>na</td>\n",
              "      <td>na</td>\n",
              "      <td>na</td>\n",
              "      <td>na</td>\n",
              "      <td>NaN</td>\n",
              "      <td>Unknown</td>\n",
              "      <td>Not a Pedestrian</td>\n",
              "      <td>Overtaking</td>\n",
              "      <td>Slight Injury</td>\n",
              "    </tr>\n",
              "  </tbody>\n",
              "</table>\n",
              "<p>5 rows × 31 columns</p>\n",
              "</div>\n",
              "    <div class=\"colab-df-buttons\">\n",
              "\n",
              "  <div class=\"colab-df-container\">\n",
              "    <button class=\"colab-df-convert\" onclick=\"convertToInteractive('df-2d0bcb59-af80-4755-afe0-415084f86844')\"\n",
              "            title=\"Convert this dataframe to an interactive table.\"\n",
              "            style=\"display:none;\">\n",
              "\n",
              "  <svg xmlns=\"http://www.w3.org/2000/svg\" height=\"24px\" viewBox=\"0 -960 960 960\">\n",
              "    <path d=\"M120-120v-720h720v720H120Zm60-500h600v-160H180v160Zm220 220h160v-160H400v160Zm0 220h160v-160H400v160ZM180-400h160v-160H180v160Zm440 0h160v-160H620v160ZM180-180h160v-160H180v160Zm440 0h160v-160H620v160Z\"/>\n",
              "  </svg>\n",
              "    </button>\n",
              "\n",
              "  <style>\n",
              "    .colab-df-container {\n",
              "      display:flex;\n",
              "      gap: 12px;\n",
              "    }\n",
              "\n",
              "    .colab-df-convert {\n",
              "      background-color: #E8F0FE;\n",
              "      border: none;\n",
              "      border-radius: 50%;\n",
              "      cursor: pointer;\n",
              "      display: none;\n",
              "      fill: #1967D2;\n",
              "      height: 32px;\n",
              "      padding: 0 0 0 0;\n",
              "      width: 32px;\n",
              "    }\n",
              "\n",
              "    .colab-df-convert:hover {\n",
              "      background-color: #E2EBFA;\n",
              "      box-shadow: 0px 1px 2px rgba(60, 64, 67, 0.3), 0px 1px 3px 1px rgba(60, 64, 67, 0.15);\n",
              "      fill: #174EA6;\n",
              "    }\n",
              "\n",
              "    .colab-df-buttons div {\n",
              "      margin-bottom: 4px;\n",
              "    }\n",
              "\n",
              "    [theme=dark] .colab-df-convert {\n",
              "      background-color: #3B4455;\n",
              "      fill: #D2E3FC;\n",
              "    }\n",
              "\n",
              "    [theme=dark] .colab-df-convert:hover {\n",
              "      background-color: #434B5C;\n",
              "      box-shadow: 0px 1px 3px 1px rgba(0, 0, 0, 0.15);\n",
              "      filter: drop-shadow(0px 1px 2px rgba(0, 0, 0, 0.3));\n",
              "      fill: #FFFFFF;\n",
              "    }\n",
              "  </style>\n",
              "\n",
              "    <script>\n",
              "      const buttonEl =\n",
              "        document.querySelector('#df-2d0bcb59-af80-4755-afe0-415084f86844 button.colab-df-convert');\n",
              "      buttonEl.style.display =\n",
              "        google.colab.kernel.accessAllowed ? 'block' : 'none';\n",
              "\n",
              "      async function convertToInteractive(key) {\n",
              "        const element = document.querySelector('#df-2d0bcb59-af80-4755-afe0-415084f86844');\n",
              "        const dataTable =\n",
              "          await google.colab.kernel.invokeFunction('convertToInteractive',\n",
              "                                                    [key], {});\n",
              "        if (!dataTable) return;\n",
              "\n",
              "        const docLinkHtml = 'Like what you see? Visit the ' +\n",
              "          '<a target=\"_blank\" href=https://colab.research.google.com/notebooks/data_table.ipynb>data table notebook</a>'\n",
              "          + ' to learn more about interactive tables.';\n",
              "        element.innerHTML = '';\n",
              "        dataTable['output_type'] = 'display_data';\n",
              "        await google.colab.output.renderOutput(dataTable, element);\n",
              "        const docLink = document.createElement('div');\n",
              "        docLink.innerHTML = docLinkHtml;\n",
              "        element.appendChild(docLink);\n",
              "      }\n",
              "    </script>\n",
              "  </div>\n",
              "\n",
              "\n",
              "<div id=\"df-87ee1d94-feb0-4067-ad02-1af820b3c7a6\">\n",
              "  <button class=\"colab-df-quickchart\" onclick=\"quickchart('df-87ee1d94-feb0-4067-ad02-1af820b3c7a6')\"\n",
              "            title=\"Suggest charts\"\n",
              "            style=\"display:none;\">\n",
              "\n",
              "<svg xmlns=\"http://www.w3.org/2000/svg\" height=\"24px\"viewBox=\"0 0 24 24\"\n",
              "     width=\"24px\">\n",
              "    <g>\n",
              "        <path d=\"M19 3H5c-1.1 0-2 .9-2 2v14c0 1.1.9 2 2 2h14c1.1 0 2-.9 2-2V5c0-1.1-.9-2-2-2zM9 17H7v-7h2v7zm4 0h-2V7h2v10zm4 0h-2v-4h2v4z\"/>\n",
              "    </g>\n",
              "</svg>\n",
              "  </button>\n",
              "\n",
              "<style>\n",
              "  .colab-df-quickchart {\n",
              "      --bg-color: #E8F0FE;\n",
              "      --fill-color: #1967D2;\n",
              "      --hover-bg-color: #E2EBFA;\n",
              "      --hover-fill-color: #174EA6;\n",
              "      --disabled-fill-color: #AAA;\n",
              "      --disabled-bg-color: #DDD;\n",
              "  }\n",
              "\n",
              "  [theme=dark] .colab-df-quickchart {\n",
              "      --bg-color: #3B4455;\n",
              "      --fill-color: #D2E3FC;\n",
              "      --hover-bg-color: #434B5C;\n",
              "      --hover-fill-color: #FFFFFF;\n",
              "      --disabled-bg-color: #3B4455;\n",
              "      --disabled-fill-color: #666;\n",
              "  }\n",
              "\n",
              "  .colab-df-quickchart {\n",
              "    background-color: var(--bg-color);\n",
              "    border: none;\n",
              "    border-radius: 50%;\n",
              "    cursor: pointer;\n",
              "    display: none;\n",
              "    fill: var(--fill-color);\n",
              "    height: 32px;\n",
              "    padding: 0;\n",
              "    width: 32px;\n",
              "  }\n",
              "\n",
              "  .colab-df-quickchart:hover {\n",
              "    background-color: var(--hover-bg-color);\n",
              "    box-shadow: 0 1px 2px rgba(60, 64, 67, 0.3), 0 1px 3px 1px rgba(60, 64, 67, 0.15);\n",
              "    fill: var(--button-hover-fill-color);\n",
              "  }\n",
              "\n",
              "  .colab-df-quickchart-complete:disabled,\n",
              "  .colab-df-quickchart-complete:disabled:hover {\n",
              "    background-color: var(--disabled-bg-color);\n",
              "    fill: var(--disabled-fill-color);\n",
              "    box-shadow: none;\n",
              "  }\n",
              "\n",
              "  .colab-df-spinner {\n",
              "    border: 2px solid var(--fill-color);\n",
              "    border-color: transparent;\n",
              "    border-bottom-color: var(--fill-color);\n",
              "    animation:\n",
              "      spin 1s steps(1) infinite;\n",
              "  }\n",
              "\n",
              "  @keyframes spin {\n",
              "    0% {\n",
              "      border-color: transparent;\n",
              "      border-bottom-color: var(--fill-color);\n",
              "      border-left-color: var(--fill-color);\n",
              "    }\n",
              "    20% {\n",
              "      border-color: transparent;\n",
              "      border-left-color: var(--fill-color);\n",
              "      border-top-color: var(--fill-color);\n",
              "    }\n",
              "    30% {\n",
              "      border-color: transparent;\n",
              "      border-left-color: var(--fill-color);\n",
              "      border-top-color: var(--fill-color);\n",
              "      border-right-color: var(--fill-color);\n",
              "    }\n",
              "    40% {\n",
              "      border-color: transparent;\n",
              "      border-right-color: var(--fill-color);\n",
              "      border-top-color: var(--fill-color);\n",
              "    }\n",
              "    60% {\n",
              "      border-color: transparent;\n",
              "      border-right-color: var(--fill-color);\n",
              "    }\n",
              "    80% {\n",
              "      border-color: transparent;\n",
              "      border-right-color: var(--fill-color);\n",
              "      border-bottom-color: var(--fill-color);\n",
              "    }\n",
              "    90% {\n",
              "      border-color: transparent;\n",
              "      border-bottom-color: var(--fill-color);\n",
              "    }\n",
              "  }\n",
              "</style>\n",
              "\n",
              "  <script>\n",
              "    async function quickchart(key) {\n",
              "      const quickchartButtonEl =\n",
              "        document.querySelector('#' + key + ' button');\n",
              "      quickchartButtonEl.disabled = true;  // To prevent multiple clicks.\n",
              "      quickchartButtonEl.classList.add('colab-df-spinner');\n",
              "      try {\n",
              "        const charts = await google.colab.kernel.invokeFunction(\n",
              "            'suggestCharts', [key], {});\n",
              "      } catch (error) {\n",
              "        console.error('Error during call to suggestCharts:', error);\n",
              "      }\n",
              "      quickchartButtonEl.classList.remove('colab-df-spinner');\n",
              "      quickchartButtonEl.classList.add('colab-df-quickchart-complete');\n",
              "    }\n",
              "    (() => {\n",
              "      let quickchartButtonEl =\n",
              "        document.querySelector('#df-87ee1d94-feb0-4067-ad02-1af820b3c7a6 button');\n",
              "      quickchartButtonEl.style.display =\n",
              "        google.colab.kernel.accessAllowed ? 'block' : 'none';\n",
              "    })();\n",
              "  </script>\n",
              "</div>\n",
              "\n",
              "    </div>\n",
              "  </div>\n"
            ],
            "application/vnd.google.colaboratory.intrinsic+json": {
              "type": "dataframe",
              "variable_name": "df"
            }
          },
          "metadata": {},
          "execution_count": 18
        },
        {
          "output_type": "stream",
          "name": "stdout",
          "text": [
            "Warning: Total number of columns (31) exceeds max_columns (20) limiting to first (20) columns.\n"
          ]
        }
      ]
    },
    {
      "cell_type": "code",
      "source": [
        "df.sample()"
      ],
      "metadata": {
        "colab": {
          "base_uri": "https://localhost:8080/",
          "height": 147
        },
        "id": "dOWQoXWnKXtB",
        "outputId": "dd8acc06-98d0-4b6b-9cda-ed2353baa364"
      },
      "execution_count": 4,
      "outputs": [
        {
          "output_type": "execute_result",
          "data": {
            "text/plain": [
              "          Time Day_of_week Age_band_of_driver Sex_of_driver  \\\n",
              "8486  14:33:00      Sunday              18-30          Male   \n",
              "\n",
              "      Educational_level Vehicle_driver_relation Driving_experience  \\\n",
              "8486  Above high school                Employee              1-2yr   \n",
              "\n",
              "      Type_of_vehicle Owner_of_vehicle Service_year_of_vehicle  ...  \\\n",
              "8486  Lorry (41?100Q)            Owner                  2-5yrs  ...   \n",
              "\n",
              "     Vehicle_movement Casualty_class Sex_of_casualty Age_band_of_casualty  \\\n",
              "8486   Going straight     Pedestrian          Female                    5   \n",
              "\n",
              "     Casualty_severity Work_of_casuality Fitness_of_casuality  \\\n",
              "8486                 3             Other               Normal   \n",
              "\n",
              "     Pedestrian_movement           Cause_of_accident Accident_severity  \n",
              "8486    Not a Pedestrian  Changing lane to the right    Serious Injury  \n",
              "\n",
              "[1 rows x 32 columns]"
            ],
            "text/html": [
              "\n",
              "  <div id=\"df-a05cef8a-f037-40f6-9e9f-951d5ca2967a\" class=\"colab-df-container\">\n",
              "    <div>\n",
              "<style scoped>\n",
              "    .dataframe tbody tr th:only-of-type {\n",
              "        vertical-align: middle;\n",
              "    }\n",
              "\n",
              "    .dataframe tbody tr th {\n",
              "        vertical-align: top;\n",
              "    }\n",
              "\n",
              "    .dataframe thead th {\n",
              "        text-align: right;\n",
              "    }\n",
              "</style>\n",
              "<table border=\"1\" class=\"dataframe\">\n",
              "  <thead>\n",
              "    <tr style=\"text-align: right;\">\n",
              "      <th></th>\n",
              "      <th>Time</th>\n",
              "      <th>Day_of_week</th>\n",
              "      <th>Age_band_of_driver</th>\n",
              "      <th>Sex_of_driver</th>\n",
              "      <th>Educational_level</th>\n",
              "      <th>Vehicle_driver_relation</th>\n",
              "      <th>Driving_experience</th>\n",
              "      <th>Type_of_vehicle</th>\n",
              "      <th>Owner_of_vehicle</th>\n",
              "      <th>Service_year_of_vehicle</th>\n",
              "      <th>...</th>\n",
              "      <th>Vehicle_movement</th>\n",
              "      <th>Casualty_class</th>\n",
              "      <th>Sex_of_casualty</th>\n",
              "      <th>Age_band_of_casualty</th>\n",
              "      <th>Casualty_severity</th>\n",
              "      <th>Work_of_casuality</th>\n",
              "      <th>Fitness_of_casuality</th>\n",
              "      <th>Pedestrian_movement</th>\n",
              "      <th>Cause_of_accident</th>\n",
              "      <th>Accident_severity</th>\n",
              "    </tr>\n",
              "  </thead>\n",
              "  <tbody>\n",
              "    <tr>\n",
              "      <th>8486</th>\n",
              "      <td>14:33:00</td>\n",
              "      <td>Sunday</td>\n",
              "      <td>18-30</td>\n",
              "      <td>Male</td>\n",
              "      <td>Above high school</td>\n",
              "      <td>Employee</td>\n",
              "      <td>1-2yr</td>\n",
              "      <td>Lorry (41?100Q)</td>\n",
              "      <td>Owner</td>\n",
              "      <td>2-5yrs</td>\n",
              "      <td>...</td>\n",
              "      <td>Going straight</td>\n",
              "      <td>Pedestrian</td>\n",
              "      <td>Female</td>\n",
              "      <td>5</td>\n",
              "      <td>3</td>\n",
              "      <td>Other</td>\n",
              "      <td>Normal</td>\n",
              "      <td>Not a Pedestrian</td>\n",
              "      <td>Changing lane to the right</td>\n",
              "      <td>Serious Injury</td>\n",
              "    </tr>\n",
              "  </tbody>\n",
              "</table>\n",
              "<p>1 rows × 32 columns</p>\n",
              "</div>\n",
              "    <div class=\"colab-df-buttons\">\n",
              "\n",
              "  <div class=\"colab-df-container\">\n",
              "    <button class=\"colab-df-convert\" onclick=\"convertToInteractive('df-a05cef8a-f037-40f6-9e9f-951d5ca2967a')\"\n",
              "            title=\"Convert this dataframe to an interactive table.\"\n",
              "            style=\"display:none;\">\n",
              "\n",
              "  <svg xmlns=\"http://www.w3.org/2000/svg\" height=\"24px\" viewBox=\"0 -960 960 960\">\n",
              "    <path d=\"M120-120v-720h720v720H120Zm60-500h600v-160H180v160Zm220 220h160v-160H400v160Zm0 220h160v-160H400v160ZM180-400h160v-160H180v160Zm440 0h160v-160H620v160ZM180-180h160v-160H180v160Zm440 0h160v-160H620v160Z\"/>\n",
              "  </svg>\n",
              "    </button>\n",
              "\n",
              "  <style>\n",
              "    .colab-df-container {\n",
              "      display:flex;\n",
              "      gap: 12px;\n",
              "    }\n",
              "\n",
              "    .colab-df-convert {\n",
              "      background-color: #E8F0FE;\n",
              "      border: none;\n",
              "      border-radius: 50%;\n",
              "      cursor: pointer;\n",
              "      display: none;\n",
              "      fill: #1967D2;\n",
              "      height: 32px;\n",
              "      padding: 0 0 0 0;\n",
              "      width: 32px;\n",
              "    }\n",
              "\n",
              "    .colab-df-convert:hover {\n",
              "      background-color: #E2EBFA;\n",
              "      box-shadow: 0px 1px 2px rgba(60, 64, 67, 0.3), 0px 1px 3px 1px rgba(60, 64, 67, 0.15);\n",
              "      fill: #174EA6;\n",
              "    }\n",
              "\n",
              "    .colab-df-buttons div {\n",
              "      margin-bottom: 4px;\n",
              "    }\n",
              "\n",
              "    [theme=dark] .colab-df-convert {\n",
              "      background-color: #3B4455;\n",
              "      fill: #D2E3FC;\n",
              "    }\n",
              "\n",
              "    [theme=dark] .colab-df-convert:hover {\n",
              "      background-color: #434B5C;\n",
              "      box-shadow: 0px 1px 3px 1px rgba(0, 0, 0, 0.15);\n",
              "      filter: drop-shadow(0px 1px 2px rgba(0, 0, 0, 0.3));\n",
              "      fill: #FFFFFF;\n",
              "    }\n",
              "  </style>\n",
              "\n",
              "    <script>\n",
              "      const buttonEl =\n",
              "        document.querySelector('#df-a05cef8a-f037-40f6-9e9f-951d5ca2967a button.colab-df-convert');\n",
              "      buttonEl.style.display =\n",
              "        google.colab.kernel.accessAllowed ? 'block' : 'none';\n",
              "\n",
              "      async function convertToInteractive(key) {\n",
              "        const element = document.querySelector('#df-a05cef8a-f037-40f6-9e9f-951d5ca2967a');\n",
              "        const dataTable =\n",
              "          await google.colab.kernel.invokeFunction('convertToInteractive',\n",
              "                                                    [key], {});\n",
              "        if (!dataTable) return;\n",
              "\n",
              "        const docLinkHtml = 'Like what you see? Visit the ' +\n",
              "          '<a target=\"_blank\" href=https://colab.research.google.com/notebooks/data_table.ipynb>data table notebook</a>'\n",
              "          + ' to learn more about interactive tables.';\n",
              "        element.innerHTML = '';\n",
              "        dataTable['output_type'] = 'display_data';\n",
              "        await google.colab.output.renderOutput(dataTable, element);\n",
              "        const docLink = document.createElement('div');\n",
              "        docLink.innerHTML = docLinkHtml;\n",
              "        element.appendChild(docLink);\n",
              "      }\n",
              "    </script>\n",
              "  </div>\n",
              "\n",
              "\n",
              "    </div>\n",
              "  </div>\n"
            ],
            "application/vnd.google.colaboratory.intrinsic+json": {
              "type": "dataframe"
            }
          },
          "metadata": {},
          "execution_count": 4
        }
      ]
    },
    {
      "cell_type": "code",
      "source": [
        "df.shape"
      ],
      "metadata": {
        "colab": {
          "base_uri": "https://localhost:8080/"
        },
        "id": "Tq1VfPg3KXrd",
        "outputId": "dafe1660-d307-410f-ac03-4019bbbaf52b"
      },
      "execution_count": 5,
      "outputs": [
        {
          "output_type": "execute_result",
          "data": {
            "text/plain": [
              "(12316, 32)"
            ]
          },
          "metadata": {},
          "execution_count": 5
        }
      ]
    },
    {
      "cell_type": "code",
      "source": [
        "df.tail()"
      ],
      "metadata": {
        "colab": {
          "base_uri": "https://localhost:8080/",
          "height": 325
        },
        "id": "8jLdLZfSKX0X",
        "outputId": "a70256d5-ade8-498e-8600-8da61c92bd12"
      },
      "execution_count": 65,
      "outputs": [
        {
          "output_type": "execute_result",
          "data": {
            "text/plain": [
              "           Time Day_of_week Age_band_of_driver Sex_of_driver  \\\n",
              "12311  16:15:00   Wednesday              31-50          Male   \n",
              "12312  18:00:00      Sunday            Unknown          Male   \n",
              "12313  13:55:00      Sunday            Over 51          Male   \n",
              "12314  13:55:00      Sunday              18-30        Female   \n",
              "12315  13:55:00      Sunday              18-30          Male   \n",
              "\n",
              "        Educational_level Vehicle_driver_relation Driving_experience  \\\n",
              "12311             Unknown                Employee              2-5yr   \n",
              "12312   Elementary school                Employee             5-10yr   \n",
              "12313  Junior high school                Employee             5-10yr   \n",
              "12314  Junior high school                Employee         Above 10yr   \n",
              "12315  Junior high school                Employee             5-10yr   \n",
              "\n",
              "       Type_of_vehicle Owner_of_vehicle Area_accident_occured  ...  \\\n",
              "12311   Lorry (11?40Q)            Owner   Outside rural areas  ...   \n",
              "12312       Automobile            Owner   Outside rural areas  ...   \n",
              "12313            Bajaj            Owner   Outside rural areas  ...   \n",
              "12314  Lorry (41?100Q)            Owner          Office areas  ...   \n",
              "12315            Other            Owner   Outside rural areas  ...   \n",
              "\n",
              "      Vehicle_movement   Casualty_class Sex_of_casualty Age_band_of_casualty  \\\n",
              "12311   Going straight               na              na                   na   \n",
              "12312            Other               na              na                   na   \n",
              "12313            Other  Driver or rider            Male                31-50   \n",
              "12314            Other               na              na                   na   \n",
              "12315         Stopping       Pedestrian          Female                    5   \n",
              "\n",
              "      Casualty_severity Work_of_casuality Fitness_of_casuality  \\\n",
              "12311                na            Driver               Normal   \n",
              "12312                na            Driver               Normal   \n",
              "12313                 3            Driver               Normal   \n",
              "12314                na            Driver               Normal   \n",
              "12315                 3            Driver               Normal   \n",
              "\n",
              "                                     Pedestrian_movement  \\\n",
              "12311                                   Not a Pedestrian   \n",
              "12312                                   Not a Pedestrian   \n",
              "12313                                   Not a Pedestrian   \n",
              "12314                                   Not a Pedestrian   \n",
              "12315  Crossing from nearside - masked by parked or s...   \n",
              "\n",
              "                          Cause_of_accident  Accident_severity  \n",
              "12311                         No distancing      Slight Injury  \n",
              "12312                         No distancing      Slight Injury  \n",
              "12313            Changing lane to the right     Serious Injury  \n",
              "12314  Driving under the influence of drugs      Slight Injury  \n",
              "12315            Changing lane to the right      Slight Injury  \n",
              "\n",
              "[5 rows x 30 columns]"
            ],
            "text/html": [
              "\n",
              "  <div id=\"df-86230db9-6833-4356-9146-4649bec2fc4d\" class=\"colab-df-container\">\n",
              "    <div>\n",
              "<style scoped>\n",
              "    .dataframe tbody tr th:only-of-type {\n",
              "        vertical-align: middle;\n",
              "    }\n",
              "\n",
              "    .dataframe tbody tr th {\n",
              "        vertical-align: top;\n",
              "    }\n",
              "\n",
              "    .dataframe thead th {\n",
              "        text-align: right;\n",
              "    }\n",
              "</style>\n",
              "<table border=\"1\" class=\"dataframe\">\n",
              "  <thead>\n",
              "    <tr style=\"text-align: right;\">\n",
              "      <th></th>\n",
              "      <th>Time</th>\n",
              "      <th>Day_of_week</th>\n",
              "      <th>Age_band_of_driver</th>\n",
              "      <th>Sex_of_driver</th>\n",
              "      <th>Educational_level</th>\n",
              "      <th>Vehicle_driver_relation</th>\n",
              "      <th>Driving_experience</th>\n",
              "      <th>Type_of_vehicle</th>\n",
              "      <th>Owner_of_vehicle</th>\n",
              "      <th>Area_accident_occured</th>\n",
              "      <th>...</th>\n",
              "      <th>Vehicle_movement</th>\n",
              "      <th>Casualty_class</th>\n",
              "      <th>Sex_of_casualty</th>\n",
              "      <th>Age_band_of_casualty</th>\n",
              "      <th>Casualty_severity</th>\n",
              "      <th>Work_of_casuality</th>\n",
              "      <th>Fitness_of_casuality</th>\n",
              "      <th>Pedestrian_movement</th>\n",
              "      <th>Cause_of_accident</th>\n",
              "      <th>Accident_severity</th>\n",
              "    </tr>\n",
              "  </thead>\n",
              "  <tbody>\n",
              "    <tr>\n",
              "      <th>12311</th>\n",
              "      <td>16:15:00</td>\n",
              "      <td>Wednesday</td>\n",
              "      <td>31-50</td>\n",
              "      <td>Male</td>\n",
              "      <td>Unknown</td>\n",
              "      <td>Employee</td>\n",
              "      <td>2-5yr</td>\n",
              "      <td>Lorry (11?40Q)</td>\n",
              "      <td>Owner</td>\n",
              "      <td>Outside rural areas</td>\n",
              "      <td>...</td>\n",
              "      <td>Going straight</td>\n",
              "      <td>na</td>\n",
              "      <td>na</td>\n",
              "      <td>na</td>\n",
              "      <td>na</td>\n",
              "      <td>Driver</td>\n",
              "      <td>Normal</td>\n",
              "      <td>Not a Pedestrian</td>\n",
              "      <td>No distancing</td>\n",
              "      <td>Slight Injury</td>\n",
              "    </tr>\n",
              "    <tr>\n",
              "      <th>12312</th>\n",
              "      <td>18:00:00</td>\n",
              "      <td>Sunday</td>\n",
              "      <td>Unknown</td>\n",
              "      <td>Male</td>\n",
              "      <td>Elementary school</td>\n",
              "      <td>Employee</td>\n",
              "      <td>5-10yr</td>\n",
              "      <td>Automobile</td>\n",
              "      <td>Owner</td>\n",
              "      <td>Outside rural areas</td>\n",
              "      <td>...</td>\n",
              "      <td>Other</td>\n",
              "      <td>na</td>\n",
              "      <td>na</td>\n",
              "      <td>na</td>\n",
              "      <td>na</td>\n",
              "      <td>Driver</td>\n",
              "      <td>Normal</td>\n",
              "      <td>Not a Pedestrian</td>\n",
              "      <td>No distancing</td>\n",
              "      <td>Slight Injury</td>\n",
              "    </tr>\n",
              "    <tr>\n",
              "      <th>12313</th>\n",
              "      <td>13:55:00</td>\n",
              "      <td>Sunday</td>\n",
              "      <td>Over 51</td>\n",
              "      <td>Male</td>\n",
              "      <td>Junior high school</td>\n",
              "      <td>Employee</td>\n",
              "      <td>5-10yr</td>\n",
              "      <td>Bajaj</td>\n",
              "      <td>Owner</td>\n",
              "      <td>Outside rural areas</td>\n",
              "      <td>...</td>\n",
              "      <td>Other</td>\n",
              "      <td>Driver or rider</td>\n",
              "      <td>Male</td>\n",
              "      <td>31-50</td>\n",
              "      <td>3</td>\n",
              "      <td>Driver</td>\n",
              "      <td>Normal</td>\n",
              "      <td>Not a Pedestrian</td>\n",
              "      <td>Changing lane to the right</td>\n",
              "      <td>Serious Injury</td>\n",
              "    </tr>\n",
              "    <tr>\n",
              "      <th>12314</th>\n",
              "      <td>13:55:00</td>\n",
              "      <td>Sunday</td>\n",
              "      <td>18-30</td>\n",
              "      <td>Female</td>\n",
              "      <td>Junior high school</td>\n",
              "      <td>Employee</td>\n",
              "      <td>Above 10yr</td>\n",
              "      <td>Lorry (41?100Q)</td>\n",
              "      <td>Owner</td>\n",
              "      <td>Office areas</td>\n",
              "      <td>...</td>\n",
              "      <td>Other</td>\n",
              "      <td>na</td>\n",
              "      <td>na</td>\n",
              "      <td>na</td>\n",
              "      <td>na</td>\n",
              "      <td>Driver</td>\n",
              "      <td>Normal</td>\n",
              "      <td>Not a Pedestrian</td>\n",
              "      <td>Driving under the influence of drugs</td>\n",
              "      <td>Slight Injury</td>\n",
              "    </tr>\n",
              "    <tr>\n",
              "      <th>12315</th>\n",
              "      <td>13:55:00</td>\n",
              "      <td>Sunday</td>\n",
              "      <td>18-30</td>\n",
              "      <td>Male</td>\n",
              "      <td>Junior high school</td>\n",
              "      <td>Employee</td>\n",
              "      <td>5-10yr</td>\n",
              "      <td>Other</td>\n",
              "      <td>Owner</td>\n",
              "      <td>Outside rural areas</td>\n",
              "      <td>...</td>\n",
              "      <td>Stopping</td>\n",
              "      <td>Pedestrian</td>\n",
              "      <td>Female</td>\n",
              "      <td>5</td>\n",
              "      <td>3</td>\n",
              "      <td>Driver</td>\n",
              "      <td>Normal</td>\n",
              "      <td>Crossing from nearside - masked by parked or s...</td>\n",
              "      <td>Changing lane to the right</td>\n",
              "      <td>Slight Injury</td>\n",
              "    </tr>\n",
              "  </tbody>\n",
              "</table>\n",
              "<p>5 rows × 30 columns</p>\n",
              "</div>\n",
              "    <div class=\"colab-df-buttons\">\n",
              "\n",
              "  <div class=\"colab-df-container\">\n",
              "    <button class=\"colab-df-convert\" onclick=\"convertToInteractive('df-86230db9-6833-4356-9146-4649bec2fc4d')\"\n",
              "            title=\"Convert this dataframe to an interactive table.\"\n",
              "            style=\"display:none;\">\n",
              "\n",
              "  <svg xmlns=\"http://www.w3.org/2000/svg\" height=\"24px\" viewBox=\"0 -960 960 960\">\n",
              "    <path d=\"M120-120v-720h720v720H120Zm60-500h600v-160H180v160Zm220 220h160v-160H400v160Zm0 220h160v-160H400v160ZM180-400h160v-160H180v160Zm440 0h160v-160H620v160ZM180-180h160v-160H180v160Zm440 0h160v-160H620v160Z\"/>\n",
              "  </svg>\n",
              "    </button>\n",
              "\n",
              "  <style>\n",
              "    .colab-df-container {\n",
              "      display:flex;\n",
              "      gap: 12px;\n",
              "    }\n",
              "\n",
              "    .colab-df-convert {\n",
              "      background-color: #E8F0FE;\n",
              "      border: none;\n",
              "      border-radius: 50%;\n",
              "      cursor: pointer;\n",
              "      display: none;\n",
              "      fill: #1967D2;\n",
              "      height: 32px;\n",
              "      padding: 0 0 0 0;\n",
              "      width: 32px;\n",
              "    }\n",
              "\n",
              "    .colab-df-convert:hover {\n",
              "      background-color: #E2EBFA;\n",
              "      box-shadow: 0px 1px 2px rgba(60, 64, 67, 0.3), 0px 1px 3px 1px rgba(60, 64, 67, 0.15);\n",
              "      fill: #174EA6;\n",
              "    }\n",
              "\n",
              "    .colab-df-buttons div {\n",
              "      margin-bottom: 4px;\n",
              "    }\n",
              "\n",
              "    [theme=dark] .colab-df-convert {\n",
              "      background-color: #3B4455;\n",
              "      fill: #D2E3FC;\n",
              "    }\n",
              "\n",
              "    [theme=dark] .colab-df-convert:hover {\n",
              "      background-color: #434B5C;\n",
              "      box-shadow: 0px 1px 3px 1px rgba(0, 0, 0, 0.15);\n",
              "      filter: drop-shadow(0px 1px 2px rgba(0, 0, 0, 0.3));\n",
              "      fill: #FFFFFF;\n",
              "    }\n",
              "  </style>\n",
              "\n",
              "    <script>\n",
              "      const buttonEl =\n",
              "        document.querySelector('#df-86230db9-6833-4356-9146-4649bec2fc4d button.colab-df-convert');\n",
              "      buttonEl.style.display =\n",
              "        google.colab.kernel.accessAllowed ? 'block' : 'none';\n",
              "\n",
              "      async function convertToInteractive(key) {\n",
              "        const element = document.querySelector('#df-86230db9-6833-4356-9146-4649bec2fc4d');\n",
              "        const dataTable =\n",
              "          await google.colab.kernel.invokeFunction('convertToInteractive',\n",
              "                                                    [key], {});\n",
              "        if (!dataTable) return;\n",
              "\n",
              "        const docLinkHtml = 'Like what you see? Visit the ' +\n",
              "          '<a target=\"_blank\" href=https://colab.research.google.com/notebooks/data_table.ipynb>data table notebook</a>'\n",
              "          + ' to learn more about interactive tables.';\n",
              "        element.innerHTML = '';\n",
              "        dataTable['output_type'] = 'display_data';\n",
              "        await google.colab.output.renderOutput(dataTable, element);\n",
              "        const docLink = document.createElement('div');\n",
              "        docLink.innerHTML = docLinkHtml;\n",
              "        element.appendChild(docLink);\n",
              "      }\n",
              "    </script>\n",
              "  </div>\n",
              "\n",
              "\n",
              "<div id=\"df-59783811-76db-4350-b280-5228f12f12a8\">\n",
              "  <button class=\"colab-df-quickchart\" onclick=\"quickchart('df-59783811-76db-4350-b280-5228f12f12a8')\"\n",
              "            title=\"Suggest charts\"\n",
              "            style=\"display:none;\">\n",
              "\n",
              "<svg xmlns=\"http://www.w3.org/2000/svg\" height=\"24px\"viewBox=\"0 0 24 24\"\n",
              "     width=\"24px\">\n",
              "    <g>\n",
              "        <path d=\"M19 3H5c-1.1 0-2 .9-2 2v14c0 1.1.9 2 2 2h14c1.1 0 2-.9 2-2V5c0-1.1-.9-2-2-2zM9 17H7v-7h2v7zm4 0h-2V7h2v10zm4 0h-2v-4h2v4z\"/>\n",
              "    </g>\n",
              "</svg>\n",
              "  </button>\n",
              "\n",
              "<style>\n",
              "  .colab-df-quickchart {\n",
              "      --bg-color: #E8F0FE;\n",
              "      --fill-color: #1967D2;\n",
              "      --hover-bg-color: #E2EBFA;\n",
              "      --hover-fill-color: #174EA6;\n",
              "      --disabled-fill-color: #AAA;\n",
              "      --disabled-bg-color: #DDD;\n",
              "  }\n",
              "\n",
              "  [theme=dark] .colab-df-quickchart {\n",
              "      --bg-color: #3B4455;\n",
              "      --fill-color: #D2E3FC;\n",
              "      --hover-bg-color: #434B5C;\n",
              "      --hover-fill-color: #FFFFFF;\n",
              "      --disabled-bg-color: #3B4455;\n",
              "      --disabled-fill-color: #666;\n",
              "  }\n",
              "\n",
              "  .colab-df-quickchart {\n",
              "    background-color: var(--bg-color);\n",
              "    border: none;\n",
              "    border-radius: 50%;\n",
              "    cursor: pointer;\n",
              "    display: none;\n",
              "    fill: var(--fill-color);\n",
              "    height: 32px;\n",
              "    padding: 0;\n",
              "    width: 32px;\n",
              "  }\n",
              "\n",
              "  .colab-df-quickchart:hover {\n",
              "    background-color: var(--hover-bg-color);\n",
              "    box-shadow: 0 1px 2px rgba(60, 64, 67, 0.3), 0 1px 3px 1px rgba(60, 64, 67, 0.15);\n",
              "    fill: var(--button-hover-fill-color);\n",
              "  }\n",
              "\n",
              "  .colab-df-quickchart-complete:disabled,\n",
              "  .colab-df-quickchart-complete:disabled:hover {\n",
              "    background-color: var(--disabled-bg-color);\n",
              "    fill: var(--disabled-fill-color);\n",
              "    box-shadow: none;\n",
              "  }\n",
              "\n",
              "  .colab-df-spinner {\n",
              "    border: 2px solid var(--fill-color);\n",
              "    border-color: transparent;\n",
              "    border-bottom-color: var(--fill-color);\n",
              "    animation:\n",
              "      spin 1s steps(1) infinite;\n",
              "  }\n",
              "\n",
              "  @keyframes spin {\n",
              "    0% {\n",
              "      border-color: transparent;\n",
              "      border-bottom-color: var(--fill-color);\n",
              "      border-left-color: var(--fill-color);\n",
              "    }\n",
              "    20% {\n",
              "      border-color: transparent;\n",
              "      border-left-color: var(--fill-color);\n",
              "      border-top-color: var(--fill-color);\n",
              "    }\n",
              "    30% {\n",
              "      border-color: transparent;\n",
              "      border-left-color: var(--fill-color);\n",
              "      border-top-color: var(--fill-color);\n",
              "      border-right-color: var(--fill-color);\n",
              "    }\n",
              "    40% {\n",
              "      border-color: transparent;\n",
              "      border-right-color: var(--fill-color);\n",
              "      border-top-color: var(--fill-color);\n",
              "    }\n",
              "    60% {\n",
              "      border-color: transparent;\n",
              "      border-right-color: var(--fill-color);\n",
              "    }\n",
              "    80% {\n",
              "      border-color: transparent;\n",
              "      border-right-color: var(--fill-color);\n",
              "      border-bottom-color: var(--fill-color);\n",
              "    }\n",
              "    90% {\n",
              "      border-color: transparent;\n",
              "      border-bottom-color: var(--fill-color);\n",
              "    }\n",
              "  }\n",
              "</style>\n",
              "\n",
              "  <script>\n",
              "    async function quickchart(key) {\n",
              "      const quickchartButtonEl =\n",
              "        document.querySelector('#' + key + ' button');\n",
              "      quickchartButtonEl.disabled = true;  // To prevent multiple clicks.\n",
              "      quickchartButtonEl.classList.add('colab-df-spinner');\n",
              "      try {\n",
              "        const charts = await google.colab.kernel.invokeFunction(\n",
              "            'suggestCharts', [key], {});\n",
              "      } catch (error) {\n",
              "        console.error('Error during call to suggestCharts:', error);\n",
              "      }\n",
              "      quickchartButtonEl.classList.remove('colab-df-spinner');\n",
              "      quickchartButtonEl.classList.add('colab-df-quickchart-complete');\n",
              "    }\n",
              "    (() => {\n",
              "      let quickchartButtonEl =\n",
              "        document.querySelector('#df-59783811-76db-4350-b280-5228f12f12a8 button');\n",
              "      quickchartButtonEl.style.display =\n",
              "        google.colab.kernel.accessAllowed ? 'block' : 'none';\n",
              "    })();\n",
              "  </script>\n",
              "</div>\n",
              "\n",
              "    </div>\n",
              "  </div>\n"
            ],
            "application/vnd.google.colaboratory.intrinsic+json": {
              "type": "dataframe"
            }
          },
          "metadata": {},
          "execution_count": 65
        }
      ]
    },
    {
      "cell_type": "code",
      "source": [
        "df.info()"
      ],
      "metadata": {
        "colab": {
          "base_uri": "https://localhost:8080/"
        },
        "id": "E74gS06MKXmU",
        "outputId": "754e6e36-1e51-4807-bdc7-711a2aa22486"
      },
      "execution_count": 6,
      "outputs": [
        {
          "output_type": "stream",
          "name": "stdout",
          "text": [
            "<class 'pandas.core.frame.DataFrame'>\n",
            "RangeIndex: 12316 entries, 0 to 12315\n",
            "Data columns (total 32 columns):\n",
            " #   Column                       Non-Null Count  Dtype \n",
            "---  ------                       --------------  ----- \n",
            " 0   Time                         12316 non-null  object\n",
            " 1   Day_of_week                  12316 non-null  object\n",
            " 2   Age_band_of_driver           12316 non-null  object\n",
            " 3   Sex_of_driver                12316 non-null  object\n",
            " 4   Educational_level            11575 non-null  object\n",
            " 5   Vehicle_driver_relation      11737 non-null  object\n",
            " 6   Driving_experience           11487 non-null  object\n",
            " 7   Type_of_vehicle              11366 non-null  object\n",
            " 8   Owner_of_vehicle             11834 non-null  object\n",
            " 9   Service_year_of_vehicle      8388 non-null   object\n",
            " 10  Defect_of_vehicle            7889 non-null   object\n",
            " 11  Area_accident_occured        12077 non-null  object\n",
            " 12  Lanes_or_Medians             11931 non-null  object\n",
            " 13  Road_allignment              12174 non-null  object\n",
            " 14  Types_of_Junction            11429 non-null  object\n",
            " 15  Road_surface_type            12144 non-null  object\n",
            " 16  Road_surface_conditions      12316 non-null  object\n",
            " 17  Light_conditions             12316 non-null  object\n",
            " 18  Weather_conditions           12316 non-null  object\n",
            " 19  Type_of_collision            12161 non-null  object\n",
            " 20  Number_of_vehicles_involved  12316 non-null  int64 \n",
            " 21  Number_of_casualties         12316 non-null  int64 \n",
            " 22  Vehicle_movement             12008 non-null  object\n",
            " 23  Casualty_class               12316 non-null  object\n",
            " 24  Sex_of_casualty              12316 non-null  object\n",
            " 25  Age_band_of_casualty         12316 non-null  object\n",
            " 26  Casualty_severity            12316 non-null  object\n",
            " 27  Work_of_casuality            9118 non-null   object\n",
            " 28  Fitness_of_casuality         9681 non-null   object\n",
            " 29  Pedestrian_movement          12316 non-null  object\n",
            " 30  Cause_of_accident            12316 non-null  object\n",
            " 31  Accident_severity            12316 non-null  object\n",
            "dtypes: int64(2), object(30)\n",
            "memory usage: 3.0+ MB\n"
          ]
        }
      ]
    },
    {
      "cell_type": "code",
      "source": [
        "row_counts = df.count()\n",
        "print(row_counts)"
      ],
      "metadata": {
        "colab": {
          "base_uri": "https://localhost:8080/"
        },
        "id": "h5lgjzdkKXks",
        "outputId": "1e5f8cda-c16c-4886-e61b-8716691d719b"
      },
      "execution_count": 7,
      "outputs": [
        {
          "output_type": "stream",
          "name": "stdout",
          "text": [
            "Time                           12316\n",
            "Day_of_week                    12316\n",
            "Age_band_of_driver             12316\n",
            "Sex_of_driver                  12316\n",
            "Educational_level              11575\n",
            "Vehicle_driver_relation        11737\n",
            "Driving_experience             11487\n",
            "Type_of_vehicle                11366\n",
            "Owner_of_vehicle               11834\n",
            "Service_year_of_vehicle         8388\n",
            "Defect_of_vehicle               7889\n",
            "Area_accident_occured          12077\n",
            "Lanes_or_Medians               11931\n",
            "Road_allignment                12174\n",
            "Types_of_Junction              11429\n",
            "Road_surface_type              12144\n",
            "Road_surface_conditions        12316\n",
            "Light_conditions               12316\n",
            "Weather_conditions             12316\n",
            "Type_of_collision              12161\n",
            "Number_of_vehicles_involved    12316\n",
            "Number_of_casualties           12316\n",
            "Vehicle_movement               12008\n",
            "Casualty_class                 12316\n",
            "Sex_of_casualty                12316\n",
            "Age_band_of_casualty           12316\n",
            "Casualty_severity              12316\n",
            "Work_of_casuality               9118\n",
            "Fitness_of_casuality            9681\n",
            "Pedestrian_movement            12316\n",
            "Cause_of_accident              12316\n",
            "Accident_severity              12316\n",
            "dtype: int64\n"
          ]
        }
      ]
    },
    {
      "cell_type": "markdown",
      "source": [
        "### Handle Missing Values"
      ],
      "metadata": {
        "id": "WiipgZA4l1Wt"
      }
    },
    {
      "cell_type": "code",
      "source": [
        "df.isnull().sum()"
      ],
      "metadata": {
        "id": "jGQsNlCWpHzw",
        "colab": {
          "base_uri": "https://localhost:8080/"
        },
        "outputId": "f29d17b5-5d33-4bb6-85c1-4ce05e077415"
      },
      "execution_count": 8,
      "outputs": [
        {
          "output_type": "execute_result",
          "data": {
            "text/plain": [
              "Time                              0\n",
              "Day_of_week                       0\n",
              "Age_band_of_driver                0\n",
              "Sex_of_driver                     0\n",
              "Educational_level               741\n",
              "Vehicle_driver_relation         579\n",
              "Driving_experience              829\n",
              "Type_of_vehicle                 950\n",
              "Owner_of_vehicle                482\n",
              "Service_year_of_vehicle        3928\n",
              "Defect_of_vehicle              4427\n",
              "Area_accident_occured           239\n",
              "Lanes_or_Medians                385\n",
              "Road_allignment                 142\n",
              "Types_of_Junction               887\n",
              "Road_surface_type               172\n",
              "Road_surface_conditions           0\n",
              "Light_conditions                  0\n",
              "Weather_conditions                0\n",
              "Type_of_collision               155\n",
              "Number_of_vehicles_involved       0\n",
              "Number_of_casualties              0\n",
              "Vehicle_movement                308\n",
              "Casualty_class                    0\n",
              "Sex_of_casualty                   0\n",
              "Age_band_of_casualty              0\n",
              "Casualty_severity                 0\n",
              "Work_of_casuality              3198\n",
              "Fitness_of_casuality           2635\n",
              "Pedestrian_movement               0\n",
              "Cause_of_accident                 0\n",
              "Accident_severity                 0\n",
              "dtype: int64"
            ]
          },
          "metadata": {},
          "execution_count": 8
        }
      ]
    },
    {
      "cell_type": "code",
      "source": [
        "df['Type_of_vehicle'].fillna('other', inplace=True)\n",
        "df['Educational_level'].fillna('Unknown', inplace=True)\n",
        "df['Vehicle_movement'].fillna('Unknown', inplace=True)"
      ],
      "metadata": {
        "id": "F76rM6JpK2WH"
      },
      "execution_count": 9,
      "outputs": []
    },
    {
      "cell_type": "code",
      "source": [
        "df.dropna(subset=['Type_of_collision'], inplace=True)\n",
        "df.dropna(subset=['Vehicle_driver_relation'], inplace=True)"
      ],
      "metadata": {
        "id": "-zZXfdOiK2Ui"
      },
      "execution_count": 10,
      "outputs": []
    },
    {
      "cell_type": "code",
      "source": [
        "df['Driving_experience'].fillna('Unknown', inplace=True)\n",
        "df['Owner_of_vehicle'].fillna('Unknown', inplace=True)\n",
        "df['Lanes_or_Medians'].fillna('Unknown', inplace=True)\n",
        "df['Types_of_Junction'].fillna('Unknown', inplace=True)\n"
      ],
      "metadata": {
        "id": "qWkKGCTwPqcn"
      },
      "execution_count": 29,
      "outputs": []
    },
    {
      "cell_type": "code",
      "source": [
        "df['Fitness_of_casuality'].fillna('Unknown', inplace=True)"
      ],
      "metadata": {
        "id": "Rt11pGoYNnbQ"
      },
      "execution_count": 19,
      "outputs": []
    },
    {
      "cell_type": "code",
      "source": [
        "df['Work_of_casuality'].fillna('Unknown', inplace=True)"
      ],
      "metadata": {
        "id": "eOsnd1aFOhhp"
      },
      "execution_count": 20,
      "outputs": []
    },
    {
      "cell_type": "code",
      "source": [
        "df.drop(columns=['Service_year_of_vehicle'], inplace=True)\n"
      ],
      "metadata": {
        "id": "_05LNyqLO9RY"
      },
      "execution_count": 22,
      "outputs": []
    },
    {
      "cell_type": "code",
      "source": [
        "df.dropna(subset=['Area_accident_occured'], inplace=True)\n"
      ],
      "metadata": {
        "id": "Sv1w0qfhPDRw"
      },
      "execution_count": 24,
      "outputs": []
    },
    {
      "cell_type": "code",
      "source": [
        "df.dropna(subset=['Road_surface_type'], inplace=True)\n"
      ],
      "metadata": {
        "id": "nBKKv4k-PeVH"
      },
      "execution_count": 27,
      "outputs": []
    },
    {
      "cell_type": "code",
      "source": [
        "df.dropna(subset=['Road_allignment'], inplace=True)\n"
      ],
      "metadata": {
        "id": "uAtmrw2pQF7Z"
      },
      "execution_count": 31,
      "outputs": []
    },
    {
      "cell_type": "code",
      "source": [
        "df.isnull().sum()"
      ],
      "metadata": {
        "colab": {
          "base_uri": "https://localhost:8080/"
        },
        "id": "lYTHh_HhQMZN",
        "outputId": "83420489-e7ff-4d47-9757-fd5a7ab9cb11"
      },
      "execution_count": 32,
      "outputs": [
        {
          "output_type": "execute_result",
          "data": {
            "text/plain": [
              "Time                           0\n",
              "Day_of_week                    0\n",
              "Age_band_of_driver             0\n",
              "Sex_of_driver                  0\n",
              "Educational_level              0\n",
              "Vehicle_driver_relation        0\n",
              "Driving_experience             0\n",
              "Type_of_vehicle                0\n",
              "Owner_of_vehicle               0\n",
              "Area_accident_occured          0\n",
              "Lanes_or_Medians               0\n",
              "Road_allignment                0\n",
              "Types_of_Junction              0\n",
              "Road_surface_type              0\n",
              "Road_surface_conditions        0\n",
              "Light_conditions               0\n",
              "Weather_conditions             0\n",
              "Type_of_collision              0\n",
              "Number_of_vehicles_involved    0\n",
              "Number_of_casualties           0\n",
              "Vehicle_movement               0\n",
              "Casualty_class                 0\n",
              "Sex_of_casualty                0\n",
              "Age_band_of_casualty           0\n",
              "Casualty_severity              0\n",
              "Work_of_casuality              0\n",
              "Fitness_of_casuality           0\n",
              "Pedestrian_movement            0\n",
              "Cause_of_accident              0\n",
              "Accident_severity              0\n",
              "dtype: int64"
            ]
          },
          "metadata": {},
          "execution_count": 32
        }
      ]
    },
    {
      "cell_type": "markdown",
      "source": [
        "### Correct any inconsistent data entries."
      ],
      "metadata": {
        "id": "RR8q7NzAmXvi"
      }
    },
    {
      "cell_type": "code",
      "source": [
        "# Standardize values\n",
        "df['Accident_severity'] = df['Accident_severity'].str.capitalize()\n",
        "\n",
        "\n"
      ],
      "metadata": {
        "id": "MmuQ8Bw2pIVz"
      },
      "execution_count": 82,
      "outputs": []
    },
    {
      "cell_type": "markdown",
      "source": [
        "### Ensure data types are appropriate for each column.\n",
        "\n",
        "---\n",
        "\n"
      ],
      "metadata": {
        "id": "ANF5wAzWmYyc"
      }
    },
    {
      "cell_type": "code",
      "source": [
        "df['Time'] = pd.to_datetime(df['Time'])\n"
      ],
      "metadata": {
        "id": "VdN2RV_OpJBV",
        "colab": {
          "base_uri": "https://localhost:8080/"
        },
        "outputId": "72ffa862-8b59-4ba8-aa22-9a8f60ee5ac4"
      },
      "execution_count": 83,
      "outputs": [
        {
          "output_type": "stream",
          "name": "stderr",
          "text": [
            "<ipython-input-83-1bfd8981fe14>:1: UserWarning: Could not infer format, so each element will be parsed individually, falling back to `dateutil`. To ensure parsing is consistent and as-expected, please specify a format.\n",
            "  df['Time'] = pd.to_datetime(df['Time'])\n"
          ]
        }
      ]
    },
    {
      "cell_type": "code",
      "source": [
        "df.info()"
      ],
      "metadata": {
        "colab": {
          "base_uri": "https://localhost:8080/"
        },
        "id": "pAORyn-Lhyno",
        "outputId": "9693d129-3f3b-4251-a5eb-72ad3e9f6336"
      },
      "execution_count": 84,
      "outputs": [
        {
          "output_type": "stream",
          "name": "stdout",
          "text": [
            "<class 'pandas.core.frame.DataFrame'>\n",
            "Index: 11103 entries, 0 to 12315\n",
            "Data columns (total 30 columns):\n",
            " #   Column                       Non-Null Count  Dtype         \n",
            "---  ------                       --------------  -----         \n",
            " 0   Time                         11103 non-null  datetime64[ns]\n",
            " 1   Day_of_week                  11103 non-null  object        \n",
            " 2   Age_band_of_driver           11103 non-null  object        \n",
            " 3   Sex_of_driver                11103 non-null  object        \n",
            " 4   Educational_level            11103 non-null  object        \n",
            " 5   Vehicle_driver_relation      11103 non-null  object        \n",
            " 6   Driving_experience           11103 non-null  object        \n",
            " 7   Type_of_vehicle              11103 non-null  object        \n",
            " 8   Owner_of_vehicle             11103 non-null  object        \n",
            " 9   Area_accident_occured        11103 non-null  object        \n",
            " 10  Lanes_or_Medians             11103 non-null  object        \n",
            " 11  Road_allignment              11103 non-null  object        \n",
            " 12  Types_of_Junction            11103 non-null  object        \n",
            " 13  Road_surface_type            11103 non-null  object        \n",
            " 14  Road_surface_conditions      11103 non-null  object        \n",
            " 15  Light_conditions             11103 non-null  object        \n",
            " 16  Weather_conditions           11103 non-null  object        \n",
            " 17  Type_of_collision            11103 non-null  object        \n",
            " 18  Number_of_vehicles_involved  11103 non-null  int64         \n",
            " 19  Number_of_casualties         11103 non-null  int64         \n",
            " 20  Vehicle_movement             11103 non-null  object        \n",
            " 21  Casualty_class               11103 non-null  object        \n",
            " 22  Sex_of_casualty              11103 non-null  object        \n",
            " 23  Age_band_of_casualty         11103 non-null  object        \n",
            " 24  Casualty_severity            11103 non-null  object        \n",
            " 25  Work_of_casuality            11103 non-null  object        \n",
            " 26  Fitness_of_casuality         11103 non-null  object        \n",
            " 27  Pedestrian_movement          11103 non-null  object        \n",
            " 28  Cause_of_accident            11103 non-null  object        \n",
            " 29  Accident_severity            11103 non-null  object        \n",
            "dtypes: datetime64[ns](1), int64(2), object(27)\n",
            "memory usage: 2.6+ MB\n"
          ]
        }
      ]
    },
    {
      "cell_type": "markdown",
      "source": [
        "## 2. Exploratory Data Analysis (EDA)"
      ],
      "metadata": {
        "id": "hkp41fRQoUSj"
      }
    },
    {
      "cell_type": "markdown",
      "source": [
        "### Perform summary statistics on the dataset."
      ],
      "metadata": {
        "id": "RQpjcBLfoZgr"
      }
    },
    {
      "cell_type": "code",
      "source": [
        "df.describe()"
      ],
      "metadata": {
        "id": "9CIk-QkApKLp",
        "colab": {
          "base_uri": "https://localhost:8080/",
          "height": 300
        },
        "outputId": "2f1639c1-8b5c-4e6d-899d-e073d3cda6a6"
      },
      "execution_count": 33,
      "outputs": [
        {
          "output_type": "execute_result",
          "data": {
            "text/plain": [
              "       Number_of_vehicles_involved  Number_of_casualties\n",
              "count                 11103.000000          11103.000000\n",
              "mean                      2.041430              1.552373\n",
              "std                       0.690475              1.008400\n",
              "min                       1.000000              1.000000\n",
              "25%                       2.000000              1.000000\n",
              "50%                       2.000000              1.000000\n",
              "75%                       2.000000              2.000000\n",
              "max                       7.000000              8.000000"
            ],
            "text/html": [
              "\n",
              "  <div id=\"df-98d1e1dc-889c-43b8-9ad9-68837071f14a\" class=\"colab-df-container\">\n",
              "    <div>\n",
              "<style scoped>\n",
              "    .dataframe tbody tr th:only-of-type {\n",
              "        vertical-align: middle;\n",
              "    }\n",
              "\n",
              "    .dataframe tbody tr th {\n",
              "        vertical-align: top;\n",
              "    }\n",
              "\n",
              "    .dataframe thead th {\n",
              "        text-align: right;\n",
              "    }\n",
              "</style>\n",
              "<table border=\"1\" class=\"dataframe\">\n",
              "  <thead>\n",
              "    <tr style=\"text-align: right;\">\n",
              "      <th></th>\n",
              "      <th>Number_of_vehicles_involved</th>\n",
              "      <th>Number_of_casualties</th>\n",
              "    </tr>\n",
              "  </thead>\n",
              "  <tbody>\n",
              "    <tr>\n",
              "      <th>count</th>\n",
              "      <td>11103.000000</td>\n",
              "      <td>11103.000000</td>\n",
              "    </tr>\n",
              "    <tr>\n",
              "      <th>mean</th>\n",
              "      <td>2.041430</td>\n",
              "      <td>1.552373</td>\n",
              "    </tr>\n",
              "    <tr>\n",
              "      <th>std</th>\n",
              "      <td>0.690475</td>\n",
              "      <td>1.008400</td>\n",
              "    </tr>\n",
              "    <tr>\n",
              "      <th>min</th>\n",
              "      <td>1.000000</td>\n",
              "      <td>1.000000</td>\n",
              "    </tr>\n",
              "    <tr>\n",
              "      <th>25%</th>\n",
              "      <td>2.000000</td>\n",
              "      <td>1.000000</td>\n",
              "    </tr>\n",
              "    <tr>\n",
              "      <th>50%</th>\n",
              "      <td>2.000000</td>\n",
              "      <td>1.000000</td>\n",
              "    </tr>\n",
              "    <tr>\n",
              "      <th>75%</th>\n",
              "      <td>2.000000</td>\n",
              "      <td>2.000000</td>\n",
              "    </tr>\n",
              "    <tr>\n",
              "      <th>max</th>\n",
              "      <td>7.000000</td>\n",
              "      <td>8.000000</td>\n",
              "    </tr>\n",
              "  </tbody>\n",
              "</table>\n",
              "</div>\n",
              "    <div class=\"colab-df-buttons\">\n",
              "\n",
              "  <div class=\"colab-df-container\">\n",
              "    <button class=\"colab-df-convert\" onclick=\"convertToInteractive('df-98d1e1dc-889c-43b8-9ad9-68837071f14a')\"\n",
              "            title=\"Convert this dataframe to an interactive table.\"\n",
              "            style=\"display:none;\">\n",
              "\n",
              "  <svg xmlns=\"http://www.w3.org/2000/svg\" height=\"24px\" viewBox=\"0 -960 960 960\">\n",
              "    <path d=\"M120-120v-720h720v720H120Zm60-500h600v-160H180v160Zm220 220h160v-160H400v160Zm0 220h160v-160H400v160ZM180-400h160v-160H180v160Zm440 0h160v-160H620v160ZM180-180h160v-160H180v160Zm440 0h160v-160H620v160Z\"/>\n",
              "  </svg>\n",
              "    </button>\n",
              "\n",
              "  <style>\n",
              "    .colab-df-container {\n",
              "      display:flex;\n",
              "      gap: 12px;\n",
              "    }\n",
              "\n",
              "    .colab-df-convert {\n",
              "      background-color: #E8F0FE;\n",
              "      border: none;\n",
              "      border-radius: 50%;\n",
              "      cursor: pointer;\n",
              "      display: none;\n",
              "      fill: #1967D2;\n",
              "      height: 32px;\n",
              "      padding: 0 0 0 0;\n",
              "      width: 32px;\n",
              "    }\n",
              "\n",
              "    .colab-df-convert:hover {\n",
              "      background-color: #E2EBFA;\n",
              "      box-shadow: 0px 1px 2px rgba(60, 64, 67, 0.3), 0px 1px 3px 1px rgba(60, 64, 67, 0.15);\n",
              "      fill: #174EA6;\n",
              "    }\n",
              "\n",
              "    .colab-df-buttons div {\n",
              "      margin-bottom: 4px;\n",
              "    }\n",
              "\n",
              "    [theme=dark] .colab-df-convert {\n",
              "      background-color: #3B4455;\n",
              "      fill: #D2E3FC;\n",
              "    }\n",
              "\n",
              "    [theme=dark] .colab-df-convert:hover {\n",
              "      background-color: #434B5C;\n",
              "      box-shadow: 0px 1px 3px 1px rgba(0, 0, 0, 0.15);\n",
              "      filter: drop-shadow(0px 1px 2px rgba(0, 0, 0, 0.3));\n",
              "      fill: #FFFFFF;\n",
              "    }\n",
              "  </style>\n",
              "\n",
              "    <script>\n",
              "      const buttonEl =\n",
              "        document.querySelector('#df-98d1e1dc-889c-43b8-9ad9-68837071f14a button.colab-df-convert');\n",
              "      buttonEl.style.display =\n",
              "        google.colab.kernel.accessAllowed ? 'block' : 'none';\n",
              "\n",
              "      async function convertToInteractive(key) {\n",
              "        const element = document.querySelector('#df-98d1e1dc-889c-43b8-9ad9-68837071f14a');\n",
              "        const dataTable =\n",
              "          await google.colab.kernel.invokeFunction('convertToInteractive',\n",
              "                                                    [key], {});\n",
              "        if (!dataTable) return;\n",
              "\n",
              "        const docLinkHtml = 'Like what you see? Visit the ' +\n",
              "          '<a target=\"_blank\" href=https://colab.research.google.com/notebooks/data_table.ipynb>data table notebook</a>'\n",
              "          + ' to learn more about interactive tables.';\n",
              "        element.innerHTML = '';\n",
              "        dataTable['output_type'] = 'display_data';\n",
              "        await google.colab.output.renderOutput(dataTable, element);\n",
              "        const docLink = document.createElement('div');\n",
              "        docLink.innerHTML = docLinkHtml;\n",
              "        element.appendChild(docLink);\n",
              "      }\n",
              "    </script>\n",
              "  </div>\n",
              "\n",
              "\n",
              "<div id=\"df-e1f1eec9-d239-47cf-b93a-9512ae1ab2f4\">\n",
              "  <button class=\"colab-df-quickchart\" onclick=\"quickchart('df-e1f1eec9-d239-47cf-b93a-9512ae1ab2f4')\"\n",
              "            title=\"Suggest charts\"\n",
              "            style=\"display:none;\">\n",
              "\n",
              "<svg xmlns=\"http://www.w3.org/2000/svg\" height=\"24px\"viewBox=\"0 0 24 24\"\n",
              "     width=\"24px\">\n",
              "    <g>\n",
              "        <path d=\"M19 3H5c-1.1 0-2 .9-2 2v14c0 1.1.9 2 2 2h14c1.1 0 2-.9 2-2V5c0-1.1-.9-2-2-2zM9 17H7v-7h2v7zm4 0h-2V7h2v10zm4 0h-2v-4h2v4z\"/>\n",
              "    </g>\n",
              "</svg>\n",
              "  </button>\n",
              "\n",
              "<style>\n",
              "  .colab-df-quickchart {\n",
              "      --bg-color: #E8F0FE;\n",
              "      --fill-color: #1967D2;\n",
              "      --hover-bg-color: #E2EBFA;\n",
              "      --hover-fill-color: #174EA6;\n",
              "      --disabled-fill-color: #AAA;\n",
              "      --disabled-bg-color: #DDD;\n",
              "  }\n",
              "\n",
              "  [theme=dark] .colab-df-quickchart {\n",
              "      --bg-color: #3B4455;\n",
              "      --fill-color: #D2E3FC;\n",
              "      --hover-bg-color: #434B5C;\n",
              "      --hover-fill-color: #FFFFFF;\n",
              "      --disabled-bg-color: #3B4455;\n",
              "      --disabled-fill-color: #666;\n",
              "  }\n",
              "\n",
              "  .colab-df-quickchart {\n",
              "    background-color: var(--bg-color);\n",
              "    border: none;\n",
              "    border-radius: 50%;\n",
              "    cursor: pointer;\n",
              "    display: none;\n",
              "    fill: var(--fill-color);\n",
              "    height: 32px;\n",
              "    padding: 0;\n",
              "    width: 32px;\n",
              "  }\n",
              "\n",
              "  .colab-df-quickchart:hover {\n",
              "    background-color: var(--hover-bg-color);\n",
              "    box-shadow: 0 1px 2px rgba(60, 64, 67, 0.3), 0 1px 3px 1px rgba(60, 64, 67, 0.15);\n",
              "    fill: var(--button-hover-fill-color);\n",
              "  }\n",
              "\n",
              "  .colab-df-quickchart-complete:disabled,\n",
              "  .colab-df-quickchart-complete:disabled:hover {\n",
              "    background-color: var(--disabled-bg-color);\n",
              "    fill: var(--disabled-fill-color);\n",
              "    box-shadow: none;\n",
              "  }\n",
              "\n",
              "  .colab-df-spinner {\n",
              "    border: 2px solid var(--fill-color);\n",
              "    border-color: transparent;\n",
              "    border-bottom-color: var(--fill-color);\n",
              "    animation:\n",
              "      spin 1s steps(1) infinite;\n",
              "  }\n",
              "\n",
              "  @keyframes spin {\n",
              "    0% {\n",
              "      border-color: transparent;\n",
              "      border-bottom-color: var(--fill-color);\n",
              "      border-left-color: var(--fill-color);\n",
              "    }\n",
              "    20% {\n",
              "      border-color: transparent;\n",
              "      border-left-color: var(--fill-color);\n",
              "      border-top-color: var(--fill-color);\n",
              "    }\n",
              "    30% {\n",
              "      border-color: transparent;\n",
              "      border-left-color: var(--fill-color);\n",
              "      border-top-color: var(--fill-color);\n",
              "      border-right-color: var(--fill-color);\n",
              "    }\n",
              "    40% {\n",
              "      border-color: transparent;\n",
              "      border-right-color: var(--fill-color);\n",
              "      border-top-color: var(--fill-color);\n",
              "    }\n",
              "    60% {\n",
              "      border-color: transparent;\n",
              "      border-right-color: var(--fill-color);\n",
              "    }\n",
              "    80% {\n",
              "      border-color: transparent;\n",
              "      border-right-color: var(--fill-color);\n",
              "      border-bottom-color: var(--fill-color);\n",
              "    }\n",
              "    90% {\n",
              "      border-color: transparent;\n",
              "      border-bottom-color: var(--fill-color);\n",
              "    }\n",
              "  }\n",
              "</style>\n",
              "\n",
              "  <script>\n",
              "    async function quickchart(key) {\n",
              "      const quickchartButtonEl =\n",
              "        document.querySelector('#' + key + ' button');\n",
              "      quickchartButtonEl.disabled = true;  // To prevent multiple clicks.\n",
              "      quickchartButtonEl.classList.add('colab-df-spinner');\n",
              "      try {\n",
              "        const charts = await google.colab.kernel.invokeFunction(\n",
              "            'suggestCharts', [key], {});\n",
              "      } catch (error) {\n",
              "        console.error('Error during call to suggestCharts:', error);\n",
              "      }\n",
              "      quickchartButtonEl.classList.remove('colab-df-spinner');\n",
              "      quickchartButtonEl.classList.add('colab-df-quickchart-complete');\n",
              "    }\n",
              "    (() => {\n",
              "      let quickchartButtonEl =\n",
              "        document.querySelector('#df-e1f1eec9-d239-47cf-b93a-9512ae1ab2f4 button');\n",
              "      quickchartButtonEl.style.display =\n",
              "        google.colab.kernel.accessAllowed ? 'block' : 'none';\n",
              "    })();\n",
              "  </script>\n",
              "</div>\n",
              "\n",
              "    </div>\n",
              "  </div>\n"
            ],
            "application/vnd.google.colaboratory.intrinsic+json": {
              "type": "dataframe",
              "summary": "{\n  \"name\": \"df\",\n  \"rows\": 8,\n  \"fields\": [\n    {\n      \"column\": \"Number_of_vehicles_involved\",\n      \"properties\": {\n        \"dtype\": \"number\",\n        \"std\": 3924.6586919597466,\n        \"min\": 0.6904750014242288,\n        \"max\": 11103.0,\n        \"num_unique_values\": 6,\n        \"samples\": [\n          11103.0,\n          2.041430244078177,\n          7.0\n        ],\n        \"semantic_type\": \"\",\n        \"description\": \"\"\n      }\n    },\n    {\n      \"column\": \"Number_of_casualties\",\n      \"properties\": {\n        \"dtype\": \"number\",\n        \"std\": 3924.7180830233315,\n        \"min\": 1.0,\n        \"max\": 11103.0,\n        \"num_unique_values\": 6,\n        \"samples\": [\n          11103.0,\n          1.5523732324596955,\n          8.0\n        ],\n        \"semantic_type\": \"\",\n        \"description\": \"\"\n      }\n    }\n  ]\n}"
            }
          },
          "metadata": {},
          "execution_count": 33
        }
      ]
    },
    {
      "cell_type": "code",
      "source": [
        "df['Accident_severity'].value_counts()"
      ],
      "metadata": {
        "colab": {
          "base_uri": "https://localhost:8080/"
        },
        "id": "zrC0T9-3RRU0",
        "outputId": "e7a43d6e-f618-4ee9-ee5b-bc8302a648f4"
      },
      "execution_count": 37,
      "outputs": [
        {
          "output_type": "execute_result",
          "data": {
            "text/plain": [
              "Accident_severity\n",
              "Slight Injury     9401\n",
              "Serious Injury    1560\n",
              "Fatal injury       142\n",
              "Name: count, dtype: int64"
            ]
          },
          "metadata": {},
          "execution_count": 37
        }
      ]
    },
    {
      "cell_type": "code",
      "source": [
        "df['Age_band_of_driver'].value_counts()"
      ],
      "metadata": {
        "colab": {
          "base_uri": "https://localhost:8080/"
        },
        "id": "KU0XRrHdRUAL",
        "outputId": "c3df5258-cec1-4aee-d8ac-335a6de8fe6c"
      },
      "execution_count": 38,
      "outputs": [
        {
          "output_type": "execute_result",
          "data": {
            "text/plain": [
              "Age_band_of_driver\n",
              "18-30       3838\n",
              "31-50       3690\n",
              "Over 51     1430\n",
              "Unknown     1392\n",
              "Under 18     753\n",
              "Name: count, dtype: int64"
            ]
          },
          "metadata": {},
          "execution_count": 38
        }
      ]
    },
    {
      "cell_type": "code",
      "source": [
        "df['Sex_of_driver'].value_counts()"
      ],
      "metadata": {
        "colab": {
          "base_uri": "https://localhost:8080/"
        },
        "id": "EHpXH8htRYM3",
        "outputId": "c5f239e7-ffce-41f7-958f-d5c125bf6581"
      },
      "execution_count": 39,
      "outputs": [
        {
          "output_type": "execute_result",
          "data": {
            "text/plain": [
              "Sex_of_driver\n",
              "Male       10315\n",
              "Female       626\n",
              "Unknown      162\n",
              "Name: count, dtype: int64"
            ]
          },
          "metadata": {},
          "execution_count": 39
        }
      ]
    },
    {
      "cell_type": "markdown",
      "source": [
        "### Identify and analyze patterns in the data."
      ],
      "metadata": {
        "id": "OjwISK8nocUT"
      }
    },
    {
      "cell_type": "markdown",
      "source": [
        "### Visualize the distribution of key variables (e.g., Age_band_of_driver, Type_of_vehicle)."
      ],
      "metadata": {
        "id": "4k-cDvL8oflR"
      }
    },
    {
      "cell_type": "code",
      "source": [
        "sns.boxplot(x='Number_of_vehicles_involved', data=df)"
      ],
      "metadata": {
        "colab": {
          "base_uri": "https://localhost:8080/",
          "height": 467
        },
        "id": "OTsysxObiXzg",
        "outputId": "d394aa06-a64e-457f-d91b-2caf10cb9184"
      },
      "execution_count": 87,
      "outputs": [
        {
          "output_type": "execute_result",
          "data": {
            "text/plain": [
              "<Axes: xlabel='Number_of_vehicles_involved'>"
            ]
          },
          "metadata": {},
          "execution_count": 87
        },
        {
          "output_type": "display_data",
          "data": {
            "text/plain": [
              "<Figure size 640x480 with 1 Axes>"
            ],
            "image/png": "[encoded data removed]"
          },
          "metadata": {}
        }
      ]
    },
    {
      "cell_type": "code",
      "source": [
        "Q1 = df['Number_of_vehicles_involved'].quantile(0.25)\n",
        "Q3 = df['Number_of_vehicles_involved'].quantile(0.75)\n",
        "IQR = Q3 - Q1\n",
        "lower_bound = Q1 - 1.5 * IQR\n",
        "upper_bound = Q3 + 1.5 * IQR\n",
        "df_clean = df[(df['Number_of_vehicles_involved'] >= lower_bound) & (df['Number_of_vehicles_involved'] <= upper_bound)]\n"
      ],
      "metadata": {
        "id": "-vReEqIYe-zH"
      },
      "execution_count": 71,
      "outputs": []
    },
    {
      "cell_type": "code",
      "source": [
        "plt.figure(figsize=(8, 5))\n",
        "sns.countplot(x='Age_band_of_driver', data=df)\n",
        "plt.title('Age Distribution of Drivers')\n",
        "plt.xlabel('Age Band')\n",
        "plt.ylabel('Count')\n",
        "plt.xticks(rotation=45)\n",
        "plt.show()\n",
        "plt.figure(figsize=(8, 5))\n",
        "sns.countplot(x='Type_of_vehicle', data=df)\n",
        "plt.title('Distribution of Types of Vehicles Involved')\n",
        "plt.xlabel('Type of Vehicle')\n",
        "plt.ylabel('Count')\n",
        "plt.xticks(rotation=45)\n",
        "plt.show()\n"
      ],
      "metadata": {
        "id": "V7I156lepKv1",
        "colab": {
          "base_uri": "https://localhost:8080/",
          "height": 1000
        },
        "outputId": "716297d4-9324-431d-cef5-d7dd198d55ad"
      },
      "execution_count": 72,
      "outputs": [
        {
          "output_type": "display_data",
          "data": {
            "text/plain": [
              "<Figure size 800x500 with 1 Axes>"
            ],
            "image/png": "[encoded data removed]"
          },
          "metadata": {}
        },
        {
          "output_type": "display_data",
          "data": {
            "text/plain": [
              "<Figure size 800x500 with 1 Axes>"
            ],
            "image/png": "[encoded data removed]"
          },
          "metadata": {}
        }
      ]
    },
    {
      "source": [
        "sizes = df['Age_band_of_driver'].value_counts()\n",
        "classes = sizes.index.tolist()\n",
        "plt.pie(sizes, labels=classes, autopct='%1.1f%%')\n",
        "plt.title('Age_band_of_driver')\n",
        "plt.show()"
      ],
      "cell_type": "code",
      "metadata": {
        "colab": {
          "base_uri": "https://localhost:8080/",
          "height": 428
        },
        "id": "i8unV2iqXZOl",
        "outputId": "8fc89087-909a-4195-ac19-1e98327f4bfb"
      },
      "execution_count": 73,
      "outputs": [
        {
          "output_type": "display_data",
          "data": {
            "text/plain": [
              "<Figure size 640x480 with 1 Axes>"
            ],
            "image/png": "[encoded data removed]"
          },
          "metadata": {}
        }
      ]
    },
    {
      "cell_type": "markdown",
      "source": [
        "### Explore relationships between variables (e.g., Age_band_of_driver vs.\n",
        "\n",
        "Accident_severity).\n"
      ],
      "metadata": {
        "id": "Lz4jQtNBoih-"
      }
    },
    {
      "cell_type": "code",
      "source": [
        "plt.figure(figsize=(10, 6))\n",
        "sns.countplot(x='Age_band_of_driver', hue='Accident_severity', data=df)\n",
        "plt.title('Age Band of Driver vs. Accident Severity')\n",
        "plt.xlabel('Age Band of Driver')\n",
        "plt.ylabel('Count')\n",
        "plt.xticks(rotation=45)\n",
        "plt.legend(title='Accident Severity')\n",
        "plt.show()\n"
      ],
      "metadata": {
        "id": "2Txh8eI1pLJQ",
        "colab": {
          "base_uri": "https://localhost:8080/",
          "height": 606
        },
        "outputId": "cb4a9a3c-8eb0-4f1d-898c-81e38aeb4456"
      },
      "execution_count": 74,
      "outputs": [
        {
          "output_type": "display_data",
          "data": {
            "text/plain": [
              "<Figure size 1000x600 with 1 Axes>"
            ],
            "image/png": "[encoded data removed]"
          },
          "metadata": {}
        }
      ]
    },
    {
      "cell_type": "markdown",
      "source": [
        "## 3. Data Visualization"
      ],
      "metadata": {
        "id": "mZiDh1gronRD"
      }
    },
    {
      "cell_type": "markdown",
      "source": [
        "* Ensure the visualizations are clear and informative."
      ],
      "metadata": {
        "id": "WL4wC3iSqWuO"
      }
    },
    {
      "cell_type": "markdown",
      "source": [
        "### Create visualizations to illustrate the findings from the EDA.\n"
      ],
      "metadata": {
        "id": "VfUFvWxUopoh"
      }
    },
    {
      "source": [
        "# 'Road_surface_conditions'\n",
        "Rood_counts = df['Road_surface_conditions'].value_counts()\n",
        "plt.figure(figsize=(10, 7))\n",
        "plt.pie(Rood_counts, labels=Rood_counts.index, autopct='%1.1f%%', startangle=140)\n",
        "\n",
        "plt.title('Road_surface_conditions')\n",
        "plt.show()\n",
        "\n",
        "# Accident_severity\n",
        "fuel_type_counts = df['Accident_severity'].value_counts()\n",
        "plt.figure(figsize=(10, 7))\n",
        "plt.pie(fuel_type_counts, labels=fuel_type_counts.index, autopct='%1.1f%%', startangle=140) # Changed Accident_severity to fuel_type_counts\n",
        "plt.title('Accident_severity')\n",
        "plt.show()"
      ],
      "cell_type": "code",
      "metadata": {
        "colab": {
          "base_uri": "https://localhost:8080/",
          "height": 1000
        },
        "id": "6OWlYyQYgWO3",
        "outputId": "4302a6fd-1af8-4c06-88d9-555670bf3bf0"
      },
      "execution_count": 79,
      "outputs": [
        {
          "output_type": "display_data",
          "data": {
            "text/plain": [
              "<Figure size 1000x700 with 1 Axes>"
            ],
            "image/png": "[encoded data removed]"
          },
          "metadata": {}
        },
        {
          "output_type": "display_data",
          "data": {
            "text/plain": [
              "<Figure size 1000x700 with 1 Axes>"
            ],
            "image/png": "[encoded data removed]"
          },
          "metadata": {}
        }
      ]
    },
    {
      "cell_type": "code",
      "source": [
        "df.plot.scatter(x='Road_surface_conditions', y='Accident_severity')\n",
        "plt.title('Road_surface_conditions vs. Accident Severity')\n",
        "plt.xlabel('Road_surface_conditions')\n",
        "plt.ylabel('Accident Severity')\n",
        "plt.show()"
      ],
      "metadata": {
        "colab": {
          "base_uri": "https://localhost:8080/",
          "height": 472
        },
        "id": "-BoZxb_kalCF",
        "outputId": "64a0953a-879b-4e07-e608-e5dca6774b73"
      },
      "execution_count": 75,
      "outputs": [
        {
          "output_type": "display_data",
          "data": {
            "text/plain": [
              "<Figure size 640x480 with 1 Axes>"
            ],
            "image/png": "[encoded data removed]"
          },
          "metadata": {}
        }
      ]
    },
    {
      "cell_type": "code",
      "source": [
        "df.plot.hexbin(x='Number_of_casualties', y='Number_of_vehicles_involved', gridsize=20)"
      ],
      "metadata": {
        "colab": {
          "base_uri": "https://localhost:8080/",
          "height": 467
        },
        "id": "PMXrVGoPbKZ4",
        "outputId": "91bb90a8-50dd-40d5-f2c8-22dcda6bb1af"
      },
      "execution_count": 76,
      "outputs": [
        {
          "output_type": "execute_result",
          "data": {
            "text/plain": [
              "<Axes: xlabel='Number_of_casualties', ylabel='Number_of_vehicles_involved'>"
            ]
          },
          "metadata": {},
          "execution_count": 76
        },
        {
          "output_type": "display_data",
          "data": {
            "text/plain": [
              "<Figure size 640x480 with 2 Axes>"
            ],
            "image/png": "[encoded data removed]"
          },
          "metadata": {}
        }
      ]
    },
    {
      "cell_type": "markdown",
      "source": [
        "### Use appropriate plots such as histograms, bar charts, pie charts, scatter plots, and heatmaps."
      ],
      "metadata": {
        "id": "G4KCbzg4osSW"
      }
    },
    {
      "cell_type": "code",
      "source": [],
      "metadata": {
        "id": "IKyAKt5apMp4"
      },
      "execution_count": 8,
      "outputs": []
    },
    {
      "cell_type": "markdown",
      "source": [
        "## 4. Insights and Conclusions"
      ],
      "metadata": {
        "id": "breh9YkZoxiT"
      }
    },
    {
      "cell_type": "markdown",
      "source": [
        "* <h3>Summarize the key insights gained from the data analysis.<h3/>\n",
        "* <h3>Draw conclusions based on the patterns observed in the data.<h3/>"
      ],
      "metadata": {
        "id": "a9akovSwo5l2"
      }
    },
    {
      "cell_type": "code",
      "source": [],
      "metadata": {
        "id": "2-U6-y6DLe_y"
      },
      "execution_count": 8,
      "outputs": []
    }
  ]
}